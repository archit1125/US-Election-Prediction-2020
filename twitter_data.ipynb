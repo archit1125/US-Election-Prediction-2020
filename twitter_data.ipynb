{
  "nbformat": 4,
  "nbformat_minor": 0,
  "metadata": {
    "colab": {
      "name": "twitter_data.ipynb",
      "provenance": [],
      "collapsed_sections": [],
      "include_colab_link": true
    },
    "kernelspec": {
      "name": "python3",
      "display_name": "Python 3"
    }
  },
  "cells": [
    {
      "cell_type": "markdown",
      "metadata": {
        "id": "view-in-github",
        "colab_type": "text"
      },
      "source": [
        "<a href=\"https://colab.research.google.com/github/archit1125/US-Election-Prediction-2020/blob/main/twitter_data.ipynb\" target=\"_parent\"><img src=\"https://colab.research.google.com/assets/colab-badge.svg\" alt=\"Open In Colab\"/></a>"
      ]
    },
    {
      "cell_type": "code",
      "metadata": {
        "id": "vVrFGD2Pi_nT"
      },
      "source": [
        "import tweepy\n",
        "import sys\n",
        "import pandas as pd\n",
        "import csv\n",
        " \n",
        "#Access Tokens for using  Tweepy API.\n",
        "db_tweets = pd.DataFrame(columns = ['username', 'text','location' ,'created_at'])\n",
        " \n",
        "access_token=''\n",
        "access_token_secret=''\n",
        "consumer_key =  ''\n",
        "consumer_secret=''\n",
        " \n",
        "auth = tweepy.OAuthHandler(consumer_key, consumer_secret)\n",
        "auth.set_access_token(access_token, access_token_secret)\n",
        "api = tweepy.API(auth)"
      ],
      "execution_count": null,
      "outputs": []
    },
    {
      "cell_type": "code",
      "metadata": {
        "id": "r47Q6yw-1bdn"
      },
      "source": [
        "st = \"\"\n",
        "#st is a global string which will contains the tweets\n",
        "class CustomStreamListener(tweepy.StreamListener):\n",
        "    def on_status(self, status):\n",
        "    \tglobal st\n",
        "      \n",
        "    \t#status.text gives us Tweets text \n",
        "    \tith_tweet = [status.user.screen_name, status.text, status.user.location, status.created_at]\n",
        "    \tdb_tweets.loc[len(db_tweets)] = ith_tweet\n",
        "  \n",
        "    \t#uncommment next two lines if want only english tweets.\n",
        "    \t#if status.lang!='en':\n",
        "    \t\t#return True\n",
        "    \tst = st + status.text\n",
        "\n",
        "    def on_error(self, status_code):\n",
        "        print >> sys.stderr, 'Encountered error with status code:', status_code\n",
        "        return True # Don't kill the stream\n",
        "\n",
        "    def on_timeout(self):\n",
        "        print >> sys.stderr, 'Timeout...'\n",
        "        return True # Don't kill the stream\n",
        "\n",
        "sapi = tweepy.streaming.Stream(auth, CustomStreamListener())\n",
        "places = [[77.04851462,28.48126329,77.24107485,28.64568413]] \n",
        "\n",
        "sapi.filter(track=['biden' ,'joe biden' ,'democrat' ,'kamala harris' ,'harris' ])\n",
        "#sapi.filter(track=['trump' ,'donald trump' ,'republican' ,'mike pence' ,'pence' ])\n"
      ],
      "execution_count": null,
      "outputs": []
    },
    {
      "cell_type": "code",
      "metadata": {
        "id": "UoxLEN7q7_Uu",
        "colab": {
          "base_uri": "https://localhost:8080/"
        },
        "outputId": "240cfbbc-b6b2-4dc1-9c8c-31720d19f842"
      },
      "source": [
        "db_tweets.shape"
      ],
      "execution_count": null,
      "outputs": [
        {
          "output_type": "execute_result",
          "data": {
            "text/plain": [
              "(42841, 4)"
            ]
          },
          "metadata": {
            "tags": []
          },
          "execution_count": 18
        }
      ]
    },
    {
      "cell_type": "code",
      "metadata": {
        "id": "ULE-ZRph1XIU",
        "colab": {
          "base_uri": "https://localhost:8080/",
          "height": 419
        },
        "outputId": "837f09e9-e0c3-4fc9-8312-2233e13c167f"
      },
      "source": [
        "db_tweets"
      ],
      "execution_count": null,
      "outputs": [
        {
          "output_type": "execute_result",
          "data": {
            "text/html": [
              "<div>\n",
              "<style scoped>\n",
              "    .dataframe tbody tr th:only-of-type {\n",
              "        vertical-align: middle;\n",
              "    }\n",
              "\n",
              "    .dataframe tbody tr th {\n",
              "        vertical-align: top;\n",
              "    }\n",
              "\n",
              "    .dataframe thead th {\n",
              "        text-align: right;\n",
              "    }\n",
              "</style>\n",
              "<table border=\"1\" class=\"dataframe\">\n",
              "  <thead>\n",
              "    <tr style=\"text-align: right;\">\n",
              "      <th></th>\n",
              "      <th>username</th>\n",
              "      <th>text</th>\n",
              "      <th>location</th>\n",
              "      <th>created_at</th>\n",
              "    </tr>\n",
              "  </thead>\n",
              "  <tbody>\n",
              "    <tr>\n",
              "      <th>0</th>\n",
              "      <td>RockieLeilua</td>\n",
              "      <td>RT @hunnerofficial: PLEASE</td>\n",
              "      <td>Menifee, CA</td>\n",
              "      <td>2020-11-03 06:38:40</td>\n",
              "    </tr>\n",
              "    <tr>\n",
              "      <th>1</th>\n",
              "      <td>MarrokTheWulf</td>\n",
              "      <td>RT @jdelreal: Wow, Lady Gaga did not mince wor...</td>\n",
              "      <td>Chicago, IL</td>\n",
              "      <td>2020-11-03 06:38:40</td>\n",
              "    </tr>\n",
              "    <tr>\n",
              "      <th>2</th>\n",
              "      <td>AgtMorganCreed</td>\n",
              "      <td>RT @JoeBiden: If we give Donald Trump another ...</td>\n",
              "      <td>🌋</td>\n",
              "      <td>2020-11-03 06:38:40</td>\n",
              "    </tr>\n",
              "    <tr>\n",
              "      <th>3</th>\n",
              "      <td>shakeflintstone</td>\n",
              "      <td>RT @TimRunsHisMouth: Ok... @LizWillis_ choking...</td>\n",
              "      <td>Lehigh Valley, PA</td>\n",
              "      <td>2020-11-03 06:38:40</td>\n",
              "    </tr>\n",
              "    <tr>\n",
              "      <th>4</th>\n",
              "      <td>myriamendoza</td>\n",
              "      <td>RT @thejtlewis: Donald Trump is making his cas...</td>\n",
              "      <td>Asunción-Paraguay</td>\n",
              "      <td>2020-11-03 06:38:40</td>\n",
              "    </tr>\n",
              "    <tr>\n",
              "      <th>...</th>\n",
              "      <td>...</td>\n",
              "      <td>...</td>\n",
              "      <td>...</td>\n",
              "      <td>...</td>\n",
              "    </tr>\n",
              "    <tr>\n",
              "      <th>30023</th>\n",
              "      <td>nomeeli</td>\n",
              "      <td>RT @RealJamesWoods: Sadly you are almost assur...</td>\n",
              "      <td>None</td>\n",
              "      <td>2020-11-03 06:48:48</td>\n",
              "    </tr>\n",
              "    <tr>\n",
              "      <th>30024</th>\n",
              "      <td>digdugboy</td>\n",
              "      <td>The difference is that Obama housed unaccompan...</td>\n",
              "      <td>Seattle, WA</td>\n",
              "      <td>2020-11-03 06:48:48</td>\n",
              "    </tr>\n",
              "    <tr>\n",
              "      <th>30025</th>\n",
              "      <td>bullmastiffus</td>\n",
              "      <td>RT @RyanGirdusky: I would love it if the Amish...</td>\n",
              "      <td>None</td>\n",
              "      <td>2020-11-03 06:48:48</td>\n",
              "    </tr>\n",
              "    <tr>\n",
              "      <th>30026</th>\n",
              "      <td>sinfultaurus</td>\n",
              "      <td>RT @JoeBiden: If we give Donald Trump another ...</td>\n",
              "      <td>None</td>\n",
              "      <td>2020-11-03 06:48:48</td>\n",
              "    </tr>\n",
              "    <tr>\n",
              "      <th>30027</th>\n",
              "      <td>iammarmustafa</td>\n",
              "      <td>RT @w_terrence: Biden is going to put China Fi...</td>\n",
              "      <td>Pakistan</td>\n",
              "      <td>2020-11-03 06:48:48</td>\n",
              "    </tr>\n",
              "  </tbody>\n",
              "</table>\n",
              "<p>30028 rows × 4 columns</p>\n",
              "</div>"
            ],
            "text/plain": [
              "              username  ...          created_at\n",
              "0         RockieLeilua  ... 2020-11-03 06:38:40\n",
              "1        MarrokTheWulf  ... 2020-11-03 06:38:40\n",
              "2       AgtMorganCreed  ... 2020-11-03 06:38:40\n",
              "3      shakeflintstone  ... 2020-11-03 06:38:40\n",
              "4         myriamendoza  ... 2020-11-03 06:38:40\n",
              "...                ...  ...                 ...\n",
              "30023          nomeeli  ... 2020-11-03 06:48:48\n",
              "30024        digdugboy  ... 2020-11-03 06:48:48\n",
              "30025    bullmastiffus  ... 2020-11-03 06:48:48\n",
              "30026     sinfultaurus  ... 2020-11-03 06:48:48\n",
              "30027    iammarmustafa  ... 2020-11-03 06:48:48\n",
              "\n",
              "[30028 rows x 4 columns]"
            ]
          },
          "metadata": {
            "tags": []
          },
          "execution_count": 16
        }
      ]
    },
    {
      "cell_type": "code",
      "metadata": {
        "id": "5waPAIrp0efV"
      },
      "source": [
        "db_tweets.to_csv('file_3_1.csv') "
      ],
      "execution_count": null,
      "outputs": []
    },
    {
      "cell_type": "code",
      "metadata": {
        "id": "weI4vc0Q1qmm",
        "colab": {
          "base_uri": "https://localhost:8080/",
          "height": 17
        },
        "outputId": "cac551fc-6612-46ee-a769-2bd2dc3c6a47"
      },
      "source": [
        "from google.colab import files\n",
        "files.download('file_3_1.csv')"
      ],
      "execution_count": null,
      "outputs": [
        {
          "output_type": "display_data",
          "data": {
            "application/javascript": [
              "\n",
              "    async function download(id, filename, size) {\n",
              "      if (!google.colab.kernel.accessAllowed) {\n",
              "        return;\n",
              "      }\n",
              "      const div = document.createElement('div');\n",
              "      const label = document.createElement('label');\n",
              "      label.textContent = `Downloading \"${filename}\": `;\n",
              "      div.appendChild(label);\n",
              "      const progress = document.createElement('progress');\n",
              "      progress.max = size;\n",
              "      div.appendChild(progress);\n",
              "      document.body.appendChild(div);\n",
              "\n",
              "      const buffers = [];\n",
              "      let downloaded = 0;\n",
              "\n",
              "      const channel = await google.colab.kernel.comms.open(id);\n",
              "      // Send a message to notify the kernel that we're ready.\n",
              "      channel.send({})\n",
              "\n",
              "      for await (const message of channel.messages) {\n",
              "        // Send a message to notify the kernel that we're ready.\n",
              "        channel.send({})\n",
              "        if (message.buffers) {\n",
              "          for (const buffer of message.buffers) {\n",
              "            buffers.push(buffer);\n",
              "            downloaded += buffer.byteLength;\n",
              "            progress.value = downloaded;\n",
              "          }\n",
              "        }\n",
              "      }\n",
              "      const blob = new Blob(buffers, {type: 'application/binary'});\n",
              "      const a = document.createElement('a');\n",
              "      a.href = window.URL.createObjectURL(blob);\n",
              "      a.download = filename;\n",
              "      div.appendChild(a);\n",
              "      a.click();\n",
              "      div.remove();\n",
              "    }\n",
              "  "
            ],
            "text/plain": [
              "<IPython.core.display.Javascript object>"
            ]
          },
          "metadata": {
            "tags": []
          }
        },
        {
          "output_type": "display_data",
          "data": {
            "application/javascript": [
              "download(\"download_c129a2e6-29d9-4119-8b72-8ee2e760dcbf\", \"file_3_1.csv\", 6798681)"
            ],
            "text/plain": [
              "<IPython.core.display.Javascript object>"
            ]
          },
          "metadata": {
            "tags": []
          }
        }
      ]
    },
    {
      "cell_type": "code",
      "metadata": {
        "id": "AF7BznX90Se4"
      },
      "source": [
        "l = [0,40.29,44.30,48.30,46.45,48.25,50.09,51.05,46.95,45.38,42.72]\r\n",
        "short = 0.0\r\n",
        "res = []\r\n",
        "for i in l:\r\n",
        "    res.append(47*(1-short) + i*short)\r\n",
        "    short += 0.1\r\n",
        "for i in l:\r\n",
        "    print(\"%.2f\"%i,end = \" \")\r\n",
        "print()\r\n",
        "for i in res:\r\n",
        "    print(\"%.2f\"%i,end = \" \")"
      ],
      "execution_count": null,
      "outputs": []
    },
    {
      "cell_type": "code",
      "metadata": {
        "id": "PJZ8snlfNauT"
      },
      "source": [
        ""
      ],
      "execution_count": null,
      "outputs": []
    }
  ]
}